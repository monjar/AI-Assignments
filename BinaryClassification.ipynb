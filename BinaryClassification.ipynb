{
  "nbformat": 4,
  "nbformat_minor": 0,
  "metadata": {
    "colab": {
      "provenance": [],
      "authorship_tag": "ABX9TyNld0EuHyW+VwghmnfvG6UW",
      "include_colab_link": true
    },
    "kernelspec": {
      "name": "python3",
      "display_name": "Python 3"
    },
    "language_info": {
      "name": "python"
    }
  },
  "cells": [
    {
      "cell_type": "markdown",
      "metadata": {
        "id": "view-in-github",
        "colab_type": "text"
      },
      "source": [
        "<a href=\"https://colab.research.google.com/github/monjar/AI-Assignments/blob/master/BinaryClassification.ipynb\" target=\"_parent\"><img src=\"https://colab.research.google.com/assets/colab-badge.svg\" alt=\"Open In Colab\"/></a>"
      ]
    },
    {
      "cell_type": "code",
      "execution_count": 7,
      "metadata": {
        "id": "exCAc5lANXDF"
      },
      "outputs": [],
      "source": [
        "import numpy as np\n",
        "from keras.datasets import imdb\n",
        "from keras.preprocessing.text import Tokenizer\n",
        "from keras import models\n",
        "from keras import layers\n",
        "import matplotlib.pyplot as plt\n",
        "from keras.utils import plot_model\n",
        "from IPython.display import Image\n",
        "from IPython.display import SVG\n",
        "from tensorflow.keras.utils import model_to_dot\n",
        "from tensorflow.keras import regularizers\n"
      ]
    },
    {
      "cell_type": "code",
      "source": [
        "np.random.seed(0)"
      ],
      "metadata": {
        "id": "tyRWZ24vOQRW"
      },
      "execution_count": 2,
      "outputs": []
    },
    {
      "cell_type": "code",
      "source": [
        "number_of_features = 10000\n",
        "(data_train, target_train), (data_test, target_test) = imdb.load_data(num_words = number_of_features)\n",
        "tokenizer = Tokenizer(num_words = number_of_features)\n",
        "features_train = tokenizer.sequences_to_matrix(data_train, mode=\"binary\")\n",
        "features_test = tokenizer.sequences_to_matrix(data_test, mode=\"binary\")\n"
      ],
      "metadata": {
        "id": "VwFbR1koOUsG"
      },
      "execution_count": 3,
      "outputs": []
    },
    {
      "cell_type": "code",
      "source": [
        "\n",
        "def build_model(n_features):\n",
        "  network = models.Sequential()\n",
        "  network.add(layers.Dense(\n",
        "    units = 16,\n",
        "    activation = \"relu\",\n",
        "    input_shape=(n_features,),\n",
        "    kernel_regularizer=regularizers.L1L2(l1=1e-5, l2=1e-4),\n",
        "  ))\n",
        "  network.add(layers.Dropout(0.5))\n",
        "  network.add(layers.Dense(\n",
        "    units = 16,\n",
        "    activation = \"relu\",\n",
        "    kernel_regularizer=regularizers.L1L2(l1=1e-5, l2=1e-4),\n",
        "  ))\n",
        "\n",
        "  network.add(layers.Dropout(0.5))\n",
        "  network.add(layers.Dense(\n",
        "    units = 1,\n",
        "    activation = \"sigmoid\"\n",
        "  ))\n",
        "\n",
        "  network.compile(loss=\"binary_crossentropy\", optimizer=\"rmsprop\", metrics=[\"accuracy\"])\n",
        "  return network\n",
        "\n",
        "nueral_net = build_model(number_of_features)\n",
        "\n"
      ],
      "metadata": {
        "id": "-Dz7__M6PAnC"
      },
      "execution_count": 11,
      "outputs": []
    },
    {
      "cell_type": "code",
      "source": [
        "fit_nueral_net = nueral_net.fit(features_train,\n",
        "                                target_train,\n",
        "                                epochs=25,\n",
        "                                verbose = 0,\n",
        "                                batch_size=1000,\n",
        "                                validation_data=(features_test, target_test))\n",
        "train_loss = fit_nueral_net.history[\"loss\"]\n",
        "test_loss = fit_nueral_net.history[\"val_loss\"]"
      ],
      "metadata": {
        "id": "HpfuZyvwUhws"
      },
      "execution_count": 12,
      "outputs": []
    },
    {
      "cell_type": "code",
      "source": [
        "epoch_range = range(1, len(train_loss) + 1)\n",
        "\n",
        "plt.plot(epoch_range, train_loss, \"r--\")\n",
        "plt.plot(epoch_range, test_loss, \"b-\")\n",
        "plt.legend([\"Train Loss\", \"Test Loss\"])\n",
        "plt.xlabel(\"Epoch\")\n",
        "plt.ylabel(\"Loss\")\n",
        "plt.show()"
      ],
      "metadata": {
        "colab": {
          "base_uri": "https://localhost:8080/",
          "height": 279
        },
        "id": "OUQ-7FKBQksd",
        "outputId": "330d8f61-ffc2-48ef-f88f-5edd765f3821"
      },
      "execution_count": 13,
      "outputs": [
        {
          "output_type": "display_data",
          "data": {
            "text/plain": [
              "<Figure size 432x288 with 1 Axes>"
            ],
            "image/png": "[encoded data removed]"
          },
          "metadata": {
            "needs_background": "light"
          }
        }
      ]
    },
    {
      "cell_type": "code",
      "source": [
        "train_accuracy = fit_nueral_net.history[\"accuracy\"]\n",
        "test_accuracy = fit_nueral_net.history[\"val_accuracy\"]\n",
        "\n",
        "plt.plot(epoch_range, train_accuracy, \"r--\")\n",
        "plt.plot(epoch_range, test_accuracy, \"b-\")\n",
        "plt.legend([\"Train Acc\", \"Test Acc\"])\n",
        "plt.xlabel(\"Epoch\")\n",
        "plt.ylabel(\"Accuracy\")\n",
        "plt.show()"
      ],
      "metadata": {
        "colab": {
          "base_uri": "https://localhost:8080/",
          "height": 279
        },
        "id": "Gs0Z4KsbRJqz",
        "outputId": "5163cab7-afbc-4d37-ae41-f578e274eea6"
      },
      "execution_count": 14,
      "outputs": [
        {
          "output_type": "display_data",
          "data": {
            "text/plain": [
              "<Figure size 432x288 with 1 Axes>"
            ],
            "image/png": "[encoded data removed]"
          },
          "metadata": {
            "needs_background": "light"
          }
        }
      ]
    },
    {
      "cell_type": "code",
      "source": [],
      "metadata": {
        "id": "RsYRvI0vR8lB"
      },
      "execution_count": null,
      "outputs": []
    }
  ]
}