{
  "nbformat": 4,
  "nbformat_minor": 0,
  "metadata": {
    "colab": {
      "provenance": [],
      "authorship_tag": "ABX9TyPAjy4BAH/uKWFaf7QVrfWc",
      "include_colab_link": true
    },
    "kernelspec": {
      "name": "python3",
      "display_name": "Python 3"
    },
    "language_info": {
      "name": "python"
    }
  },
  "cells": [
    {
      "cell_type": "markdown",
      "metadata": {
        "id": "view-in-github",
        "colab_type": "text"
      },
      "source": [
        "<a href=\"https://colab.research.google.com/github/monjar/AI-Assignments/blob/master/ClassicNN.ipynb\" target=\"_parent\"><img src=\"https://colab.research.google.com/assets/colab-badge.svg\" alt=\"Open In Colab\"/></a>"
      ]
    },
    {
      "cell_type": "code",
      "execution_count": 4,
      "metadata": {
        "id": "CDaTHEVEC9qv"
      },
      "outputs": [],
      "source": [
        "#imports\n",
        "from math import exp\n",
        "import numpy as np\n",
        "from random import seed, random\n",
        "import matplotlib.pyplot as plt"
      ]
    },
    {
      "cell_type": "code",
      "source": [
        "class NeuralNetwork:\n",
        "\n",
        "  def __init__(self, n_inputs, n_hidden, n_outputs):\n",
        "    self.network = []\n",
        "    hidden_layer = [{'weights' : [random() for i in range (n_inputs + 1)]} for i in range(n_hidden)]\n",
        "    output_layer = [{'weights' : [random() for i in range (n_hidden + 1)]} for i in range(n_outputs)]\n",
        "    self.network.append(hidden_layer)\n",
        "    self.network.append(output_layer)\n",
        "    self.n_outputs = n_outputs\n",
        "\n",
        "  def activate_function(self, weights, inputs):\n",
        "    active_value = weights[-1] # Adding the bias\n",
        "    for i in range(len(weights) - 1):\n",
        "      active_value += weights[i] * inputs[i]\n",
        "    return active_value\n",
        "\n",
        "  def transfer(self, active_value):\n",
        "    return 1.0 / (1.0 + exp(-active_value))\n",
        "\n",
        "  def d_transfer(self, output):\n",
        "    return output * (1.0 - output)\n",
        "\n",
        "  def predict(self, inputs):\n",
        "    prev_layer_output = inputs\n",
        "    for layer in self.network:\n",
        "      current_layer_output = []\n",
        "      for neuron in layer:\n",
        "        neuron['output'] = self.transfer(self.activate_function(neuron['weights'], prev_layer_output))\n",
        "        current_layer_output.append(neuron['output'])\n",
        "      prev_layer_output = current_layer_output\n",
        "    return prev_layer_output\n",
        "\n",
        "  def backward_prop_error(self, expected):\n",
        "    for i in reversed(range(len(self.network))):\n",
        "      layer = self.network[i]\n",
        "      errors = []\n",
        "      if i != len(self.network) - 1:\n",
        "        for j in range(len(layer)):\n",
        "          error = 0.0\n",
        "          for neuron in self.network[i + 1]:\n",
        "            error += (neuron['weights'][j] * neuron['delta'])\n",
        "          errors.append(error)\n",
        "      else:\n",
        "        for j in range (len(layer)):\n",
        "          neuron = layer[j]\n",
        "          errors.append(expected[j] - neuron['output'])\n",
        "      for j in range(len(layer)):\n",
        "        neuron = layer[j]\n",
        "        neuron['delta'] = errors[j] * self.d_transfer(neuron['output'])\n",
        "\n",
        "  def update_weights(self, row, l_rate):\n",
        "    for i in range(len(self.network)):\n",
        "      inputs = row[:-1]\n",
        "      if i !=0:\n",
        "        inputs = [neuron['output'] for neuron in self.network[i-1]]\n",
        "\n",
        "      for neuron in self.network[i]:\n",
        "        for j in range(len(inputs)):\n",
        "          neuron['weights'][j] += l_rate * neuron['delta'] * inputs[j]\n",
        "        neuron['weights'][-1] += l_rate * neuron['delta']\n",
        "\n",
        "\n",
        "  def fit(self, train_data, learning_rate, n_epoch):\n",
        "    for epoch in range(n_epoch):\n",
        "      sum_error = 0\n",
        "      for row in train_data:\n",
        "        outputs = self.predict(row)\n",
        "        expected = [0 for i in range(self.n_outputs)]\n",
        "        expected[row[-1]] = 1\n",
        "        sum_error =+ sum([(expected[i] - outputs[i]) ** 2 for i in range (len(expected))])\n",
        "        self.backward_prop_error(expected)\n",
        "        self.update_weights(row, learning_rate)\n",
        "      if (epoch + 1) % 100 == 0:\n",
        "        print(f\"Epoch #{epoch + 1}/{n_epoch} ---- error: {sum_error}\")"
      ],
      "metadata": {
        "id": "FlJLNLq8DTb6"
      },
      "execution_count": 54,
      "outputs": []
    },
    {
      "cell_type": "code",
      "source": [
        "seed(1)\n",
        "dataset = [[0.959,  0.085,  0.058,      1,    0.0,    0.0,  1],\n",
        "           [0.981,  0.034,   0.04,  0.892,  0.093,  0.021,  0],\n",
        "           [0.907,  0.034,  0.028,  0.895,  0.055,  0.055,  0], \n",
        "           [0.994,  0.039,  0.026,  0.881,  0.044,  0.082,  0],\n",
        "           [0.999,  0.074,  0.068,   0.88,  0.043,  0.048,  0],\n",
        "           [0.972,  0.019,  0.074,  0.949,  0.029,   0.08,  1], \n",
        "           [0.952,  0.024,  0.083,  0.893,  0.053,  0.015,  0],\n",
        "           [0.903,  0.071,  0.078,  0.922,  0.035,  0.035,  1],\n",
        "           [0.976,  0.092,  0.014,  0.918,  0.057,  0.051,  1],\n",
        "           [0.883,   0.02,  0.001,  0.931,  0.018,  0.079,  1],\n",
        "           [0.959,  0.055,  0.047,  0.914,  0.048,  0.018,  1],\n",
        "           [0.94,   0.023,  0.008,  0.996,  0.067,  0.065,  1],\n",
        "           [0.88,   0.066,  0.009,  0.895,  0.051,  0.077,  0],\n",
        "           [0.911,  0.005,  0.002,  0.995,  0.025,  0.004,  1],\n",
        "           [0.922,  0.057,  0.055,  0.881,  0.076,  0.026,  0],\n",
        "           [0.904,  0.063,  0.097,  0.921,  0.098,   0.09,  0]]\n",
        "x = np.array(dataset)[:,:-1]\n",
        "y = np.array(dataset)[:,-1]"
      ],
      "metadata": {
        "id": "rC8T5VfLKmVu"
      },
      "execution_count": 59,
      "outputs": []
    },
    {
      "cell_type": "code",
      "source": [
        "classic_nn = NeuralNetwork(len(x[0]), 10, len(set(y)))"
      ],
      "metadata": {
        "id": "hgai6jMSLPQ1"
      },
      "execution_count": 60,
      "outputs": []
    },
    {
      "cell_type": "code",
      "source": [
        "classic_nn.fit(dataset, 0.5, 1000)"
      ],
      "metadata": {
        "colab": {
          "base_uri": "https://localhost:8080/"
        },
        "id": "KkAMGctkLR5F",
        "outputId": "0acb4e6e-1e13-4920-e526-948a0870b2ee"
      },
      "execution_count": 61,
      "outputs": [
        {
          "output_type": "stream",
          "name": "stdout",
          "text": [
            "Epoch #100/1000 ---- error: 0.5890243534651546\n",
            "Epoch #200/1000 ---- error: 0.5409852501334749\n",
            "Epoch #300/1000 ---- error: 0.5185564948479626\n",
            "Epoch #400/1000 ---- error: 0.4487875637607601\n",
            "Epoch #500/1000 ---- error: 0.28665437433508806\n",
            "Epoch #600/1000 ---- error: 0.154026874819074\n",
            "Epoch #700/1000 ---- error: 0.09428873396171789\n",
            "Epoch #800/1000 ---- error: 0.07243549866643086\n",
            "Epoch #900/1000 ---- error: 0.06015282645625704\n",
            "Epoch #1000/1000 ---- error: 0.040752976861115314\n"
          ]
        }
      ]
    },
    {
      "cell_type": "code",
      "source": [
        "classic_nn.predict([0.976,  0.092,  0.014,  0.918,  0.057,  0.051])"
      ],
      "metadata": {
        "colab": {
          "base_uri": "https://localhost:8080/"
        },
        "id": "PFEhnvm1LsVl",
        "outputId": "46bc0a6d-9a5d-46a7-89e9-ceba053c449a"
      },
      "execution_count": 62,
      "outputs": [
        {
          "output_type": "execute_result",
          "data": {
            "text/plain": [
              "[0.6267269343593079, 0.3750520709211139]"
            ]
          },
          "metadata": {},
          "execution_count": 62
        }
      ]
    },
    {
      "cell_type": "code",
      "source": [],
      "metadata": {
        "id": "tp73SGXJPA37"
      },
      "execution_count": null,
      "outputs": []
    }
  ]
}